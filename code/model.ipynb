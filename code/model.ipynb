{
 "cells": [
  {
   "cell_type": "markdown",
   "metadata": {},
   "source": [
    "### 导入数据，进行初步的EDA。"
   ]
  },
  {
   "cell_type": "code",
   "execution_count": null,
   "metadata": {},
   "outputs": [
    {
     "name": "stdout",
     "output_type": "stream",
     "text": [
      "当前工作目录: e:\\python\\2025-MCM-ICM\\code\n"
     ]
    }
   ],
   "source": [
    "import pandas as pd\n",
    "import numpy as np\n",
    "import matplotlib.pyplot as plt\n",
    "import seaborn as sns\n",
    "\n",
    "\n",
    "\n",
    "df = pd.read_csv('../data/summerOly_athletes.csv')"
   ]
  },
  {
   "cell_type": "markdown",
   "metadata": {},
   "source": [
    "### 进行特征筛选与特征降维\n",
    "- 首先分析变量与目标变量之间的相关性，然后分析变量与目标变量的互信息，综合考虑两者的结果，进行特征选择。\n",
    "- 观察看有没有必要进行特征降维，如果有，可以考虑使用PCA等方法进行特征降维。"
   ]
  },
  {
   "cell_type": "code",
   "execution_count": null,
   "metadata": {},
   "outputs": [],
   "source": [
    "# 111"
   ]
  },
  {
   "cell_type": "markdown",
   "metadata": {},
   "source": [
    "### 接下来完成第一步也就是零膨胀模型的构建\n",
    "- 首先判断历史数据的平稳性，使用Augmented Dickey-Fuller检验验证奖牌数时间序列的平稳性。\n",
    "- 然后为第一部分（逻辑回归）选择合适的特征，使用逻辑回归模型预测从来没有获得过奖牌的国家在下一届奥运会上获得奖牌的概率。\n",
    "- 对于第二部分（计数部分），如果数据不平稳就选择负二项分布，如果数据平稳就选择泊松分布。\n",
    "- 最后，将两部分的结果相乘，得到最终的预测结果。\n"
   ]
  },
  {
   "cell_type": "code",
   "execution_count": null,
   "metadata": {},
   "outputs": [],
   "source": [
    "from statsmodels.tsa.stattools import adfuller\n",
    "from statsmodels.discrete.count_model import ZeroInflatedNegativeBinomialP\n",
    "\n",
    "\n",
    "def check_stationarity(df):\n",
    "    for col in df.columns:\n",
    "        # ADF test\n",
    "        result = adfuller(df[col])\n",
    "        print(f'ADF Statistic for {col}: {result[0]}')\n",
    "        print(f'p-value: {result[1]}')\n",
    "        if result[1] > 0.05:\n",
    "            return False\n",
    "    return True\n",
    "\n",
    "## 开始训练零膨胀负二项模型\n",
    "\n",
    "features = {\n",
    "    'weight': 'weight',\n",
    "    'height': 'height',\n",
    "}\n",
    "\n",
    "target = 'medals_gt_zero'\n",
    "\n",
    "# 划分训练集和测试集\n",
    "from sklearn.model_selection import train_test_split\n",
    "X = df[features.keys()]\n",
    "y = df[target]\n",
    "X_train, X_test, y_train, y_test = train_test_split(X, y, test_size=0.2, random_state=42)\n",
    "formular = f'{target} ~ {\" + \".join(features.values())}'\n",
    "\n",
    "# 训练模型\n",
    "model = ZeroInflatedNegativeBinomialP.from_formula(formular, data=X_train,exog_infl=~1)\n",
    "zinb_results = model.fit(maxiter=1000)\n",
    "\n",
    "## 预测\n",
    "y_pred = zinb_results.predict(X_test,which='prob')\n",
    "\n",
    "#计算ROC曲线\n",
    "from sklearn.metrics import roc_curve, roc_auc_score\n",
    "fpr, tpr, thresholds = roc_curve(y_test, y_pred)\n",
    "roc_auc = roc_auc_score(y_test, y_pred)\n",
    "\n",
    "plt.figure()\n",
    "plt.plot(fpr, tpr, color='darkorange', lw=2, label='ROC curve (area = %0.2f)' % roc_auc)\n",
    "\n",
    "#寻找最佳阈值\n",
    "optimal_idx = np.argmax(tpr - fpr)\n",
    "optimal_threshold = thresholds[optimal_idx]\n",
    "plt.scatter(fpr[optimal_idx], tpr[optimal_idx], color='red', label='Best Threshold')\n",
    "plt.plot([0, 1], [0, 1], color='navy', lw=2, linestyle='--')\n",
    "plt.xlim([0.0, 1.0])\n",
    "plt.ylim([0.0, 1.05])\n",
    "plt.xlabel('False Positive Rate')\n",
    "plt.ylabel('True Positive Rate')\n",
    "plt.title('Receiver Operating Characteristic Curve')\n",
    "\n",
    "\n",
    "\n",
    "#预测下一届奥运会哪些国家第一次获得奖牌\n",
    "\n",
    "next_year = 2028\n",
    "prediction = zinb_results.predict(df[features.keys()])\n",
    "df['prediction'] = prediction\n",
    "\n",
    "\n",
    "\n",
    "\n",
    "\n",
    "\n",
    "        "
   ]
  },
  {
   "cell_type": "markdown",
   "metadata": {},
   "source": [
    "### 第二阶段使用混合预测模型\n",
    "- 首先使用ARIMAX进行时间序预测，结合历史数据和外部因素，预测下一届奥运会的奖牌数。\n",
    "- 然后结合Xgboost进行残差预测，得到最终的预测结果。"
   ]
  },
  {
   "cell_type": "code",
   "execution_count": null,
   "metadata": {},
   "outputs": [],
   "source": [
    "from statsmodels.tsa.statespace.sarimax import SARIMAX\n",
    "from pmdarima import auto_arima\n",
    "from sklearn.preprocessing import StandardScaler\n",
    "\n",
    "## 平稳性处理模块\n",
    "def make_stationary(series):\n",
    "    d = 0 \n",
    "    while adfuller(series)[1] > 0.05:\n",
    "        series = series.diff().dropna()\n",
    "        d += 1\n",
    "    return series, d\n",
    "\n",
    "#从外部变量预处理模块\n",
    "def prepare"
   ]
  }
 ],
 "metadata": {
  "kernelspec": {
   "display_name": "sklearn",
   "language": "python",
   "name": "python3"
  },
  "language_info": {
   "codemirror_mode": {
    "name": "ipython",
    "version": 3
   },
   "file_extension": ".py",
   "mimetype": "text/x-python",
   "name": "python",
   "nbconvert_exporter": "python",
   "pygments_lexer": "ipython3",
   "version": "3.11.9"
  }
 },
 "nbformat": 4,
 "nbformat_minor": 2
}
